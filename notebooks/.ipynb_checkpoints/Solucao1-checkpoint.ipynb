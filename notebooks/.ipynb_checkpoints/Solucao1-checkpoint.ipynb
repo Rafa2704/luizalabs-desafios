{
 "cells": [
  {
   "cell_type": "markdown",
   "id": "b7834858-b0ea-449f-925a-d8e1dbc7bf92",
   "metadata": {},
   "source": [
    "**Desafio 1.1**\r\n",
    "\r\n",
    "Com base nos dados disponibilizados no arquivo mencionado acima, traga como resultado o **valor de venda mensal agrupado por mês e por tipo de serviço** e **valor de venda acumulado por serviço até o mês atual**. \r\n",
    "\r\n",
    "Salve um arquivo csv de nome **‘desafio1.1.csv’** com o resultado final.\r\n",
    "\n"
   ]
  },
  {
   "cell_type": "code",
   "execution_count": 1,
   "id": "9dc0432e-8d03-4829-b7ac-ff0ba1c2ebfa",
   "metadata": {},
   "outputs": [],
   "source": [
    "# ===== Imports principais =====\n",
    "from pyspark.sql import SparkSession, DataFrame\n",
    "from pyspark.sql import functions as F\n",
    "from pyspark.sql.window import Window\n",
    "from pyspark.sql.functions import regexp_replace, format_number, col\n"
   ]
  },
  {
   "cell_type": "markdown",
   "id": "2ed1412c-9e3e-4c8d-8807-f10a23c7735d",
   "metadata": {},
   "source": [
    "Explicação dos imports\n",
    "\n",
    "from pyspark.sql import SparkSession, DataFrame\n",
    "\n",
    "SparkSession: Ponto de entrada principal para usar o PySpark. Usado para criar ou recuperar uma sessão Spark com SparkSession.builder.getOrCreate().\n",
    "\n",
    "DataFrame: Usado para declarar o tipo de retorno de funções que retornam DataFrames (ex: -> DataFrame).\n",
    "\n",
    "from pyspark.sql import functions as F\n",
    "\n",
    "Importa todas as funções do módulo functions com o alias F, permitindo acessar funções como F.col(), F.sum(), F.date_format(), F.round() etc.\n",
    "\n",
    "Essa abordagem ajuda a deixar o código mais conciso e organizado.\n",
    "\n",
    "from pyspark.sql.window import Window\n",
    "\n",
    "Usado para criar especificações de janela para funções do tipo over(), que permitem realizar agregações acumuladas ou por grupos com ordenação (como soma acumulada por mês).\n",
    "\n",
    "Exemplo de uso: Window.partitionBy(\"tipo_servico\").orderBy(\"mes\").\n",
    "\n",
    "from pyspark.sql.functions import regexp_replace, format_number, col\n",
    "\n",
    "regexp_replace: Permite substituir partes de strings usando expressões regulares. Usado para formatar números no padrão brasileiro.\n",
    "\n",
    "format_number: Formata números com separadores de milhar e casas decimais (padrão americano).\n",
    "\n",
    "col: Refere-se a colunas de um DataFrame. Necessário para expressões como col(\"valor_total\")."
   ]
  },
  {
   "cell_type": "code",
   "execution_count": 2,
   "id": "571fd005-804c-4c18-8f21-52b33d52ff7d",
   "metadata": {},
   "outputs": [],
   "source": [
    "def read_csv(file_path: str) -> DataFrame:\n",
    "    \"\"\"\n",
    "    Função responsável por ler arquivo csv\n",
    "    \"\"\"\n",
    "    df = (spark.read\n",
    "      .option(\"header\", True)\n",
    "      .option(\"inferSchema\", True)\n",
    "      .csv(file_path))\n",
    "    return df"
   ]
  },
  {
   "cell_type": "code",
   "execution_count": 3,
   "id": "8334d3bf-5c53-4777-a959-532e93c1b1e2",
   "metadata": {},
   "outputs": [
    {
     "name": "stdout",
     "output_type": "stream",
     "text": [
      "+----------+--------+------------+-------+-----------+\n",
      "|data_venda|cliente |filial_venda|servico|valor_total|\n",
      "+----------+--------+------------+-------+-----------+\n",
      "|2022-10-22|6309189 |256         |5      |232.27     |\n",
      "|2023-01-30|90585447|256         |5      |425.13     |\n",
      "|2022-12-09|10733220|256         |5      |122.67     |\n",
      "|2023-05-26|6338901 |256         |5      |166.68     |\n",
      "|2023-06-30|6278693 |256         |5      |509.95     |\n",
      "+----------+--------+------------+-------+-----------+\n",
      "only showing top 5 rows\n",
      "\n"
     ]
    }
   ],
   "source": [
    "from pyspark.sql import SparkSession\n",
    "spark = SparkSession.builder.getOrCreate()\n",
    "\n",
    "df  = read_csv(\"/home/jovyan/work/dados/tab_venda_servicos.csv\")\n",
    "\n",
    "df.show(5, truncate=False)\n"
   ]
  },
  {
   "cell_type": "code",
   "execution_count": 4,
   "id": "cf11ed56-957b-43c5-838c-20d837f39c80",
   "metadata": {},
   "outputs": [
    {
     "name": "stdout",
     "output_type": "stream",
     "text": [
      "root\n",
      " |-- data_venda: date (nullable = true)\n",
      " |-- cliente: integer (nullable = true)\n",
      " |-- filial_venda: integer (nullable = true)\n",
      " |-- servico: integer (nullable = true)\n",
      " |-- valor_total: double (nullable = true)\n",
      "\n"
     ]
    }
   ],
   "source": [
    "#verificar se o spark catalogou certo mos tipos de colunas \n",
    "df.printSchema()\n"
   ]
  },
  {
   "cell_type": "code",
   "execution_count": 5,
   "id": "fbaadc32-0467-401c-810f-d201fb243fc7",
   "metadata": {},
   "outputs": [],
   "source": [
    "def classificar_servico(df: DataFrame) -> DataFrame:\n",
    "    \"\"\"\n",
    "    Adiciona a coluna 'tipo_servico' ao DataFrame conforme as regras:\n",
    "    - servico ∈ (5,6,7,8)  → 'garantia estendida'\n",
    "    - servico ∈ (19,20)    → 'seguro roubo e furto'\n",
    "    - outros valores       → 'outros'\n",
    "    \"\"\"\n",
    "    df = df.withColumn(\n",
    "        \"tipo_servico\",\n",
    "        F.when(F.col(\"servico\").isin(5,6,7,8), \"garantia estendida\")\n",
    "        .when(F.col(\"servico\").isin(19,20), \"seguro roubo e furto\")\n",
    "        .otherwise(\"outros\")\n",
    "    )\n",
    "    return df\n"
   ]
  },
  {
   "cell_type": "code",
   "execution_count": 6,
   "id": "0cf6486c-582e-4655-a774-d77eef82cabc",
   "metadata": {},
   "outputs": [
    {
     "name": "stdout",
     "output_type": "stream",
     "text": [
      "+--------------------+\n",
      "|        tipo_servico|\n",
      "+--------------------+\n",
      "|  garantia estendida|\n",
      "|seguro roubo e furto|\n",
      "+--------------------+\n",
      "\n"
     ]
    }
   ],
   "source": [
    "df_completo = classificar_servico(df)\n",
    "df_completo.select( \"tipo_servico\").distinct().show()"
   ]
  },
  {
   "cell_type": "code",
   "execution_count": 7,
   "id": "4ab47491-9be4-458f-95c3-9182fa96d2fa",
   "metadata": {},
   "outputs": [
    {
     "name": "stdout",
     "output_type": "stream",
     "text": [
      "+----------+--------+------------+-------+-----------+------------------+\n",
      "|data_venda| cliente|filial_venda|servico|valor_total|      tipo_servico|\n",
      "+----------+--------+------------+-------+-----------+------------------+\n",
      "|2022-10-22| 6309189|         256|      5|     232.27|garantia estendida|\n",
      "|2023-01-30|90585447|         256|      5|     425.13|garantia estendida|\n",
      "|2022-12-09|10733220|         256|      5|     122.67|garantia estendida|\n",
      "|2023-05-26| 6338901|         256|      5|     166.68|garantia estendida|\n",
      "|2023-06-30| 6278693|         256|      5|     509.95|garantia estendida|\n",
      "|2023-04-10|89179573|         256|      5|     231.33|garantia estendida|\n",
      "|2023-06-29| 6310720|         256|      5|     142.36|garantia estendida|\n",
      "|2023-06-27|34984970|         256|      5|     396.53|garantia estendida|\n",
      "|2022-12-21|95746466|         256|      5|      233.2|garantia estendida|\n",
      "|2023-04-05|10041227|         256|      5|     854.69|garantia estendida|\n",
      "|2023-04-22| 5810997|         256|      5|     600.61|garantia estendida|\n",
      "|2023-04-27| 6298569|         256|      5|     140.43|garantia estendida|\n",
      "|2022-09-06| 6252250|         256|      5|     182.42|garantia estendida|\n",
      "|2022-11-12|40697402|         256|      5|      399.9|garantia estendida|\n",
      "|2023-05-13|13256729|         256|      5|      289.0|garantia estendida|\n",
      "|2022-08-13| 8462131|         256|      5|     405.82|garantia estendida|\n",
      "|2023-03-17|85716957|         256|      5|     174.88|garantia estendida|\n",
      "|2022-12-03|33796142|         256|      5|     333.88|garantia estendida|\n",
      "|2022-11-17|26983535|         256|      5|      440.0|garantia estendida|\n",
      "|2022-12-06|79630571|         256|      5|     863.54|garantia estendida|\n",
      "+----------+--------+------------+-------+-----------+------------------+\n",
      "only showing top 20 rows\n",
      "\n"
     ]
    }
   ],
   "source": [
    "df_completo.show()"
   ]
  },
  {
   "cell_type": "markdown",
   "id": "c257e855-bc8b-459f-8860-9044829bf04b",
   "metadata": {},
   "source": [
    "### **Agregando os dados mensalmente por tipo de serviço**\r\n",
    "\r\n",
    "- **Calculando a soma das vendas no mês**  \r\n",
    "- **Calculando o acumulado até o mês atual**\r\n",
    "\n"
   ]
  },
  {
   "cell_type": "code",
   "execution_count": 8,
   "id": "fc069a0b-4b87-45c8-b04d-93fd04638d46",
   "metadata": {},
   "outputs": [
    {
     "name": "stdout",
     "output_type": "stream",
     "text": [
      "+-------+--------------------+------------------+---------------------+\n",
      "|mes    |tipo_servico        |valor_venda_mensal|valor_venda_acumulado|\n",
      "+-------+--------------------+------------------+---------------------+\n",
      "|2022-07|garantia estendida  |5.14809071E7      |5.14809071E7         |\n",
      "|2022-07|seguro roubo e furto|9310526.16        |9310526.16           |\n",
      "|2022-08|garantia estendida  |4.271105788E7     |9.419196498E7        |\n",
      "|2022-08|seguro roubo e furto|8363101.16        |1.767362732E7        |\n",
      "|2022-09|garantia estendida  |4.080065183E7     |1.3499261681E8       |\n",
      "|2022-09|seguro roubo e furto|7494609.59        |2.516823691E7        |\n",
      "|2022-10|garantia estendida  |4.575607256E7     |1.8074868937E8       |\n",
      "|2022-10|seguro roubo e furto|9533270.17        |3.470150708E7        |\n",
      "|2022-11|garantia estendida  |6.735803518E7     |2.4810672455E8       |\n",
      "|2022-11|seguro roubo e furto|1.140347351E7     |4.610498059E7        |\n",
      "|2022-12|garantia estendida  |4.991802019E7     |2.9802474474E8       |\n",
      "|2022-12|seguro roubo e furto|1.150197841E7     |5.7606959E7          |\n",
      "|2023-01|garantia estendida  |4.615775594E7     |3.4418250068E8       |\n",
      "|2023-01|seguro roubo e furto|1.042363995E7     |6.803059895E7        |\n",
      "|2023-02|garantia estendida  |3.520413461E7     |3.7938663529E8       |\n",
      "|2023-02|seguro roubo e furto|9478569.76        |7.750916871E7        |\n",
      "|2023-03|garantia estendida  |4.229623911E7     |4.216828744E8        |\n",
      "|2023-03|seguro roubo e furto|1.105524703E7     |8.856441574E7        |\n",
      "|2023-04|garantia estendida  |4.12436616E7      |4.62926536E8         |\n",
      "|2023-04|seguro roubo e furto|1.002940942E7     |9.859382516E7        |\n",
      "+-------+--------------------+------------------+---------------------+\n",
      "only showing top 20 rows\n",
      "\n"
     ]
    }
   ],
   "source": [
    "# 1) cria coluna \"mes\" a partir de data_venda (formato yyyy-MM)\n",
    "df_mes = df_completo.withColumn(\"mes\", F.date_format(F.date_trunc(\"month\", F.col(\"data_venda\")), \"yyyy-MM\"))\n",
    "\n",
    "# 2) agrega por mes + tipo_servico (valor mensal de vendas)\n",
    "df_agg = (df_mes\n",
    "    .groupBy(\"mes\", \"tipo_servico\")\n",
    "    .agg(F.sum(\"valor_total\").alias(\"valor_venda_mensal\"))\n",
    ")\n",
    "\n",
    "# 3) calcula valor acumulado por tipo_servico ao longo do tempo\n",
    "w = Window.partitionBy(\"tipo_servico\").orderBy(\"mes\").rowsBetween(Window.unboundedPreceding, Window.currentRow)\n",
    "\n",
    "df_final = (df_agg\n",
    "    .withColumn(\"valor_venda_acumulado\", F.sum(\"valor_venda_mensal\").over(w))\n",
    "    .select(\n",
    "        \"mes\",\n",
    "        \"tipo_servico\",\n",
    "        F.round(F.col(\"valor_venda_mensal\"), 2).alias(\"valor_venda_mensal\"),\n",
    "        F.round(F.col(\"valor_venda_acumulado\"), 2).alias(\"valor_venda_acumulado\")\n",
    "    )\n",
    "    .orderBy(\"mes\", \"tipo_servico\")\n",
    ")\n",
    "\n",
    "# 4) visualizar resultado\n",
    "df_final.show(20, truncate=False)"
   ]
  },
  {
   "cell_type": "markdown",
   "id": "53932696-7dc1-44e5-ad44-44dfe208b2da",
   "metadata": {},
   "source": [
    "### **Convertendo os valores de vendas para formato contábil**\n",
    "\n",
    "- **Transformando números em notação científica para formato numérico legível (ex: `5.14809071E7` → `51.480.907,10`)**\n",
    "- **Aplicando separador de milhar e arredondamento para duas casas decimais**\n",
    "- **Formatando os valores no padrão brasileiro com a função `format_number()`**\n"
   ]
  },
  {
   "cell_type": "code",
   "execution_count": 10,
   "id": "5cd966d7-b1b8-4b00-8106-fb2b41804e28",
   "metadata": {},
   "outputs": [
    {
     "name": "stdout",
     "output_type": "stream",
     "text": [
      "+-------+--------------------+------------------+---------------------+\n",
      "|mes    |tipo_servico        |valor_venda_mensal|valor_venda_acumulado|\n",
      "+-------+--------------------+------------------+---------------------+\n",
      "|2022-07|garantia estendida  |51,480,907.10     |51,480,907.10        |\n",
      "|2022-07|seguro roubo e furto|9,310,526.16      |9,310,526.16         |\n",
      "|2022-08|garantia estendida  |42,711,057.88     |94,191,964.98        |\n",
      "|2022-08|seguro roubo e furto|8,363,101.16      |17,673,627.32        |\n",
      "|2022-09|garantia estendida  |40,800,651.83     |134,992,616.81       |\n",
      "|2022-09|seguro roubo e furto|7,494,609.59      |25,168,236.91        |\n",
      "|2022-10|garantia estendida  |45,756,072.56     |180,748,689.37       |\n",
      "|2022-10|seguro roubo e furto|9,533,270.17      |34,701,507.08        |\n",
      "|2022-11|garantia estendida  |67,358,035.18     |248,106,724.55       |\n",
      "|2022-11|seguro roubo e furto|11,403,473.51     |46,104,980.59        |\n",
      "|2022-12|garantia estendida  |49,918,020.19     |298,024,744.74       |\n",
      "|2022-12|seguro roubo e furto|11,501,978.41     |57,606,959.00        |\n",
      "|2023-01|garantia estendida  |46,157,755.94     |344,182,500.68       |\n",
      "|2023-01|seguro roubo e furto|10,423,639.95     |68,030,598.95        |\n",
      "|2023-02|garantia estendida  |35,204,134.61     |379,386,635.29       |\n",
      "|2023-02|seguro roubo e furto|9,478,569.76      |77,509,168.71        |\n",
      "|2023-03|garantia estendida  |42,296,239.11     |421,682,874.40       |\n",
      "|2023-03|seguro roubo e furto|11,055,247.03     |88,564,415.74        |\n",
      "|2023-04|garantia estendida  |41,243,661.60     |462,926,536.00       |\n",
      "|2023-04|seguro roubo e furto|10,029,409.42     |98,593,825.16        |\n",
      "+-------+--------------------+------------------+---------------------+\n",
      "only showing top 20 rows\n",
      "\n"
     ]
    }
   ],
   "source": [
    "df_formatado = df_final.select(\n",
    "    \"mes\",\n",
    "    \"tipo_servico\",\n",
    "    F.format_number(\"valor_venda_mensal\", 2).alias(\"valor_venda_mensal\"),\n",
    "    F.format_number(\"valor_venda_acumulado\", 2).alias(\"valor_venda_acumulado\")\n",
    ")\n",
    "\n",
    "df_formatado.show(20, truncate=False)\n"
   ]
  },
  {
   "cell_type": "markdown",
   "id": "dc6ceb50-b923-4a51-b1d6-cf597c8926b9",
   "metadata": {},
   "source": [
    "### **Aplicando formatação brasileira com função personalizada**\n",
    "\n",
    "- Criada uma função `formatar_brasileiro()` para transformar valores numéricos no formato contábil brasileiro (com vírgula decimal e ponto como separador de milhar).\n",
    "- A função utiliza `format_number()` para arredondar, seguido de `regexp_replace()` para ajustar a pontuação.\n",
    "- Foram adicionadas duas versões de cada valor: uma com formatação padrão e outra com formatação brasileira (`*_br`).\n"
   ]
  },
  {
   "cell_type": "code",
   "execution_count": 12,
   "id": "358d6d61-ead8-48b3-be60-91b50197fa51",
   "metadata": {},
   "outputs": [
    {
     "name": "stdout",
     "output_type": "stream",
     "text": [
      "+-------+--------------------+------------------+---------------------+---------------------+------------------------+\n",
      "|mes    |tipo_servico        |valor_venda_mensal|valor_venda_mensal_br|valor_venda_acumulado|valor_venda_acumulado_br|\n",
      "+-------+--------------------+------------------+---------------------+---------------------+------------------------+\n",
      "|2022-07|garantia estendida  |51,480,907.10     |51.480.907,10        |51,480,907.10        |51.480.907,10           |\n",
      "|2022-07|seguro roubo e furto|9,310,526.16      |9.310.526,16         |9,310,526.16         |9.310.526,16            |\n",
      "|2022-08|garantia estendida  |42,711,057.88     |42.711.057,88        |94,191,964.98        |94.191.964,98           |\n",
      "|2022-08|seguro roubo e furto|8,363,101.16      |8.363.101,16         |17,673,627.32        |17.673.627,32           |\n",
      "|2022-09|garantia estendida  |40,800,651.83     |40.800.651,83        |134,992,616.81       |134.992.616,81          |\n",
      "|2022-09|seguro roubo e furto|7,494,609.59      |7.494.609,59         |25,168,236.91        |25.168.236,91           |\n",
      "|2022-10|garantia estendida  |45,756,072.56     |45.756.072,56        |180,748,689.37       |180.748.689,37          |\n",
      "|2022-10|seguro roubo e furto|9,533,270.17      |9.533.270,17         |34,701,507.08        |34.701.507,08           |\n",
      "|2022-11|garantia estendida  |67,358,035.18     |67.358.035,18        |248,106,724.55       |248.106.724,55          |\n",
      "|2022-11|seguro roubo e furto|11,403,473.51     |11.403.473,51        |46,104,980.59        |46.104.980,59           |\n",
      "|2022-12|garantia estendida  |49,918,020.19     |49.918.020,19        |298,024,744.74       |298.024.744,74          |\n",
      "|2022-12|seguro roubo e furto|11,501,978.41     |11.501.978,41        |57,606,959.00        |57.606.959,00           |\n",
      "|2023-01|garantia estendida  |46,157,755.94     |46.157.755,94        |344,182,500.68       |344.182.500,68          |\n",
      "|2023-01|seguro roubo e furto|10,423,639.95     |10.423.639,95        |68,030,598.95        |68.030.598,95           |\n",
      "|2023-02|garantia estendida  |35,204,134.61     |35.204.134,61        |379,386,635.29       |379.386.635,29          |\n",
      "|2023-02|seguro roubo e furto|9,478,569.76      |9.478.569,76         |77,509,168.71        |77.509.168,71           |\n",
      "|2023-03|garantia estendida  |42,296,239.11     |42.296.239,11        |421,682,874.40       |421.682.874,40          |\n",
      "|2023-03|seguro roubo e furto|11,055,247.03     |11.055.247,03        |88,564,415.74        |88.564.415,74           |\n",
      "|2023-04|garantia estendida  |41,243,661.60     |41.243.661,60        |462,926,536.00       |462.926.536,00          |\n",
      "|2023-04|seguro roubo e furto|10,029,409.42     |10.029.409,42        |98,593,825.16        |98.593.825,16           |\n",
      "+-------+--------------------+------------------+---------------------+---------------------+------------------------+\n",
      "only showing top 20 rows\n",
      "\n"
     ]
    }
   ],
   "source": [
    "\n",
    "\n",
    "# Função para formatar em padrão brasileiro\n",
    "def formatar_brasileiro(coluna):\n",
    "    return regexp_replace(\n",
    "        regexp_replace(\n",
    "            regexp_replace(format_number(col(coluna), 2), \",\", \"X\"),\n",
    "            \"\\\\.\", \",\"\n",
    "        ),\n",
    "        \"X\", \".\"\n",
    "    ).alias(coluna + \"_br\")\n",
    "\n",
    "# Adiciona ambas as versões\n",
    "df_formatado = df_final.select(\n",
    "    \"mes\",\n",
    "    \"tipo_servico\",\n",
    "    F.format_number(\"valor_venda_mensal\", 2).alias(\"valor_venda_mensal\"),\n",
    "    formatar_brasileiro(\"valor_venda_mensal\"),\n",
    "    F.format_number(\"valor_venda_acumulado\", 2).alias(\"valor_venda_acumulado\"),\n",
    "    formatar_brasileiro(\"valor_venda_acumulado\")\n",
    ")\n",
    "\n",
    "df_formatado.show(20, truncate=False)\n"
   ]
  },
  {
   "cell_type": "markdown",
   "id": "9786ac47-11aa-482b-b0f2-afd43a72aae4",
   "metadata": {},
   "source": [
    "### **Desafio 1.2**\r\n",
    "\r\n",
    "**João** é um colaborador do **Magalu** que analisa a venda de serviços. Sempre que um mês é finalizado, João calcula o **percentual de crescimento do mês que acabou de finalizar em relação ao mês anterior a este.**\r\n",
    "\r\n",
    "O líder do João enviou uma solicitação pra ele:\r\n",
    "\r\n",
    "> **\"João, preciso enviar para cada filial os 5 meses que tiveram o maior % de crescimento em relação ao mês anterior, você pode gerar uma base que tenha essa informação?\"**\r\n",
    "\r\n",
    "Salve um arquivo CSV de nome **‘desafio1.2.csv’** com o resultado final.  \r\n",
    "**Utilize PySpark na resolução.**\r\n",
    "olução.\r\n"
   ]
  },
  {
   "cell_type": "code",
   "execution_count": 13,
   "id": "485400ea-6106-4602-87bf-3f755bd4e6d7",
   "metadata": {},
   "outputs": [
    {
     "name": "stdout",
     "output_type": "stream",
     "text": [
      "+----------+--------+------------+-------+-----------+\n",
      "|data_venda| cliente|filial_venda|servico|valor_total|\n",
      "+----------+--------+------------+-------+-----------+\n",
      "|2022-10-22| 6309189|         256|      5|     232.27|\n",
      "|2023-01-30|90585447|         256|      5|     425.13|\n",
      "|2022-12-09|10733220|         256|      5|     122.67|\n",
      "|2023-05-26| 6338901|         256|      5|     166.68|\n",
      "|2023-06-30| 6278693|         256|      5|     509.95|\n",
      "|2023-04-10|89179573|         256|      5|     231.33|\n",
      "|2023-06-29| 6310720|         256|      5|     142.36|\n",
      "|2023-06-27|34984970|         256|      5|     396.53|\n",
      "|2022-12-21|95746466|         256|      5|      233.2|\n",
      "|2023-04-05|10041227|         256|      5|     854.69|\n",
      "|2023-04-22| 5810997|         256|      5|     600.61|\n",
      "|2023-04-27| 6298569|         256|      5|     140.43|\n",
      "|2022-09-06| 6252250|         256|      5|     182.42|\n",
      "|2022-11-12|40697402|         256|      5|      399.9|\n",
      "|2023-05-13|13256729|         256|      5|      289.0|\n",
      "|2022-08-13| 8462131|         256|      5|     405.82|\n",
      "|2023-03-17|85716957|         256|      5|     174.88|\n",
      "|2022-12-03|33796142|         256|      5|     333.88|\n",
      "|2022-11-17|26983535|         256|      5|      440.0|\n",
      "|2022-12-06|79630571|         256|      5|     863.54|\n",
      "+----------+--------+------------+-------+-----------+\n",
      "only showing top 20 rows\n",
      "\n"
     ]
    }
   ],
   "source": [
    "df.show()"
   ]
  },
  {
   "cell_type": "code",
   "execution_count": 14,
   "id": "f3f02dd8-1a45-45c4-a717-f20d68cde2d8",
   "metadata": {},
   "outputs": [
    {
     "data": {
      "text/plain": [
       "1045"
      ]
     },
     "execution_count": 14,
     "metadata": {},
     "output_type": "execute_result"
    }
   ],
   "source": [
    "# quantidade de filiais \n",
    "df.select(\"filial_venda\").distinct().count()\n"
   ]
  },
  {
   "cell_type": "markdown",
   "id": "3f660706-d53b-4fa0-9edc-d2f8d8326e9f",
   "metadata": {},
   "source": [
    "1. **Preparar os dados**\r\n",
    "\r\n",
    "**Extrair o ano e mês da data_venda**\r\n",
    "\r\n",
    "**Agregar valor_total por filial_venda e ano_mes**\r\n"
   ]
  },
  {
   "cell_type": "code",
   "execution_count": 15,
   "id": "83132dc6-7bef-4825-bfba-134081ec3054",
   "metadata": {},
   "outputs": [],
   "source": [
    "# 1. Criar coluna de ano e mês\n",
    "df_preparado = df.withColumn(\"ano_mes\", F.date_format(\"data_venda\", \"yyyy-MM\"))\n",
    "\n",
    "# 2. Agrupar por filial e ano_mes, somar e arredondar o valor\n",
    "df_mensal = df_preparado.groupBy(\"filial_venda\", \"ano_mes\").agg(\n",
    "    F.round(F.sum(\"valor_total\"), 2).alias(\"venda_mensal\")\n",
    ")\n",
    "\n",
    "# 3. Aplicar format_number para formatar com 2 casas decimais e separador brasileiro\n",
    "df_mensal_formatado = df_mensal.withColumn(\n",
    "    \"venda_mensal_br\", formatar_brasileiro(\"venda_mensal\")\n",
    ")\n"
   ]
  },
  {
   "cell_type": "code",
   "execution_count": 16,
   "id": "c87047c5-73ef-49f0-b6e4-fe63450b6d6d",
   "metadata": {},
   "outputs": [
    {
     "name": "stdout",
     "output_type": "stream",
     "text": [
      "+------------+-------+------------+---------------+\n",
      "|filial_venda|ano_mes|venda_mensal|venda_mensal_br|\n",
      "+------------+-------+------------+---------------+\n",
      "|        1028|2023-05|    30512.35|      30.512,35|\n",
      "|         261|2023-05|    49091.46|      49.091,46|\n",
      "|         264|2022-11|    79988.05|      79.988,05|\n",
      "|        1038|2023-02|     6588.17|       6.588,17|\n",
      "|         272|2022-07|   120649.92|     120.649,92|\n",
      "|         792|2023-03|    33067.14|      33.067,14|\n",
      "|         256|2023-02|    19602.41|      19.602,41|\n",
      "|        1029|2023-02|    22581.16|      22.581,16|\n",
      "|         521|2022-08|    47870.47|      47.870,47|\n",
      "|          16|2022-12|    41877.23|      41.877,23|\n",
      "|          17|2023-04|   113128.44|     113.128,44|\n",
      "|          19|2022-11|   154857.19|     154.857,19|\n",
      "|         531|2023-01|    30627.91|      30.627,91|\n",
      "|          20|2022-08|    59789.57|      59.789,57|\n",
      "|          24|2022-08|   159856.66|     159.856,66|\n",
      "|         513|2022-09|    23988.48|      23.988,48|\n",
      "|          17|2022-07|   107361.32|     107.361,32|\n",
      "|         273|2022-12|    56887.39|      56.887,39|\n",
      "|         786|2023-04|    48691.72|      48.691,72|\n",
      "|        1048|2022-07|    57524.43|      57.524,43|\n",
      "+------------+-------+------------+---------------+\n",
      "only showing top 20 rows\n",
      "\n"
     ]
    }
   ],
   "source": [
    "df_mensal_formatado.show()"
   ]
  },
  {
   "cell_type": "markdown",
   "id": "4e738162-172f-4ec7-9629-31222efd4c6d",
   "metadata": {},
   "source": [
    "**Calcular crescimento percentual por filial**\r\n",
    "\r\n",
    "**Objetivo:**\r\n",
    "\r\n",
    "**Usar** `lag()` **para obter a** `venda_mensal` **do mês anterior (por filial)**\r\n",
    "\r\n",
    "**Calcular o** `crescimento_percentual`\r\n",
    "\r\n",
    "**Já arredondar com** `round()` **e formatar com** `formatar_brasileiro()` **também**\r\n"
   ]
  },
  {
   "cell_type": "code",
   "execution_count": 19,
   "id": "13755662-5591-4c25-a9b6-86970e9abe3c",
   "metadata": {},
   "outputs": [],
   "source": [
    "\n",
    "# 1. Criar janela para calcular mês anterior por filial\n",
    "janela = Window.partitionBy(\"filial_venda\").orderBy(\"ano_mes\")\n",
    "\n",
    "# 2. Calcular a venda do mês anterior\n",
    "df_crescimento = df_mensal.withColumn(\n",
    "    \"venda_anterior\", F.lag(\"venda_mensal\").over(janela)\n",
    ")\n",
    "\n",
    "# 3. Calcular o crescimento percentual\n",
    "df_crescimento = df_crescimento.withColumn(\n",
    "    \"crescimento_percentual\",\n",
    "    F.when(\n",
    "        F.col(\"venda_anterior\").isNotNull(),\n",
    "        ((F.col(\"venda_mensal\") - F.col(\"venda_anterior\")) / F.col(\"venda_anterior\")) * 100\n",
    "    )\n",
    ")\n",
    "\n",
    "# 4. Arredondar o crescimento percentual para 2 casas\n",
    "df_crescimento = df_crescimento.withColumn(\n",
    "    \"crescimento_percentual\", F.round(\"crescimento_percentual\", 2)\n",
    ")\n",
    "\n",
    "# 5. Adicionar coluna formatada no padrão brasileiro\n",
    "df_crescimento = df_crescimento.withColumn(\n",
    "    \"crescimento_percentual_br\", formatar_brasileiro(\"crescimento_percentual\")\n",
    ")\n"
   ]
  },
  {
   "cell_type": "code",
   "execution_count": 20,
   "id": "3d4ffc83-0afc-439a-a561-82e16108f4a2",
   "metadata": {},
   "outputs": [
    {
     "name": "stdout",
     "output_type": "stream",
     "text": [
      "+------------+-------+------------+--------------+----------------------+-------------------------+\n",
      "|filial_venda|ano_mes|venda_mensal|venda_anterior|crescimento_percentual|crescimento_percentual_br|\n",
      "+------------+-------+------------+--------------+----------------------+-------------------------+\n",
      "|6           |2022-07|335887.17   |NULL          |NULL                  |NULL                     |\n",
      "|6           |2022-08|257621.15   |335887.17     |-23.3                 |-23,30                   |\n",
      "|6           |2022-09|264037.04   |257621.15     |2.49                  |2,49                     |\n",
      "|6           |2022-10|318597.02   |264037.04     |20.66                 |20,66                    |\n",
      "|6           |2022-11|419139.73   |318597.02     |31.56                 |31,56                    |\n",
      "|6           |2022-12|434635.57   |419139.73     |3.7                   |3,70                     |\n",
      "|6           |2023-01|365816.71   |434635.57     |-15.83                |-15,83                   |\n",
      "|6           |2023-02|279941.49   |365816.71     |-23.47                |-23,47                   |\n",
      "|6           |2023-03|316776.62   |279941.49     |13.16                 |13,16                    |\n",
      "|6           |2023-04|305695.8    |316776.62     |-3.5                  |-3,50                    |\n",
      "+------------+-------+------------+--------------+----------------------+-------------------------+\n",
      "only showing top 10 rows\n",
      "\n"
     ]
    }
   ],
   "source": [
    "df_crescimento.select(\n",
    "    \"filial_venda\", \"ano_mes\", \"venda_mensal\", \"venda_anterior\", \n",
    "    \"crescimento_percentual\", \"crescimento_percentual_br\"\n",
    ").orderBy(\"filial_venda\", \"ano_mes\").show(10, truncate=False)\n"
   ]
  },
  {
   "cell_type": "markdown",
   "id": "218b9e32-e1bf-4730-bf32-1a2e782cc565",
   "metadata": {},
   "source": [
    "**Etapa 3 – Top 5 crescimentos por filial**\r\n",
    "\r\n",
    "**Objetivo:**\r\n",
    "\r\n",
    "**Para cada** `filial_venda`, **pegar os 5 meses com maior crescimento percentual**\r\n",
    "\r\n",
    "**Ignorar casos onde o crescimento é** `null` **(primeiro mês de cada filial)**\r\n"
   ]
  },
  {
   "cell_type": "code",
   "execution_count": 22,
   "id": "df387464-f1a3-49c2-895f-d600a61e46f9",
   "metadata": {},
   "outputs": [],
   "source": [
    "\n",
    "# Janela para rankear o crescimento percentual por filial\n",
    "janela_rank = Window.partitionBy(\"filial_venda\").orderBy(F.col(\"crescimento_percentual\").desc())\n",
    "\n",
    "# Adicionar coluna com o ranking\n",
    "df_rankeado = df_crescimento.withColumn(\n",
    "    \"rank_crescimento\",\n",
    "    F.row_number().over(janela_rank)\n",
    ")\n",
    "\n",
    "# Filtrar os top 5 por filial\n",
    "df_top5 = df_rankeado.filter(F.col(\"rank_crescimento\") <= 5)\n"
   ]
  },
  {
   "cell_type": "code",
   "execution_count": 23,
   "id": "2eba9e7f-0432-473e-801d-4738d8183821",
   "metadata": {},
   "outputs": [
    {
     "name": "stdout",
     "output_type": "stream",
     "text": [
      "+------------+-------+------------+--------------+----------------------+-------------------------+----------------+\n",
      "|filial_venda|ano_mes|venda_mensal|venda_anterior|crescimento_percentual|crescimento_percentual_br|rank_crescimento|\n",
      "+------------+-------+------------+--------------+----------------------+-------------------------+----------------+\n",
      "|           6|2022-11|   419139.73|     318597.02|                 31.56|                    31,56|               1|\n",
      "|           6|2022-10|   318597.02|     264037.04|                 20.66|                    20,66|               2|\n",
      "|           6|2023-03|   316776.62|     279941.49|                 13.16|                    13,16|               3|\n",
      "|           6|2023-05|    343490.4|      305695.8|                 12.36|                    12,36|               4|\n",
      "|           6|2022-12|   434635.57|     419139.73|                   3.7|                     3,70|               5|\n",
      "|           7|2023-03|    30002.26|      16588.38|                 80.86|                    80,86|               1|\n",
      "|           7|2022-10|    29526.71|      17259.08|                 71.08|                    71,08|               2|\n",
      "|           7|2022-11|    44661.31|      29526.71|                 51.26|                    51,26|               3|\n",
      "|           7|2023-05|    38251.04|      25323.17|                 51.05|                    51,05|               4|\n",
      "|           7|2022-12|    45632.13|      44661.31|                  2.17|                     2,17|               5|\n",
      "|           8|2022-11|   187435.24|     134722.26|                 39.13|                    39,13|               1|\n",
      "|           8|2023-03|   120636.02|      93329.17|                 29.26|                    29,26|               2|\n",
      "|           8|2023-05|   153142.28|     130352.64|                 17.48|                    17,48|               3|\n",
      "|           8|2023-04|   130352.64|     120636.02|                  8.05|                     8,05|               4|\n",
      "|           8|2022-09|   137913.81|     129952.87|                  6.13|                     6,13|               5|\n",
      "|           9|2023-05|   125728.55|      85606.46|                 46.87|                    46,87|               1|\n",
      "|           9|2022-11|   156975.12|     108112.68|                  45.2|                    45,20|               2|\n",
      "|           9|2022-09|    99886.37|      91920.24|                  8.67|                     8,67|               3|\n",
      "|           9|2022-10|   108112.68|      99886.37|                  8.24|                     8,24|               4|\n",
      "|           9|2023-03|    93002.82|       86078.5|                  8.04|                     8,04|               5|\n",
      "+------------+-------+------------+--------------+----------------------+-------------------------+----------------+\n",
      "only showing top 20 rows\n",
      "\n"
     ]
    }
   ],
   "source": [
    "df_top5.show()"
   ]
  },
  {
   "cell_type": "markdown",
   "id": "bec29657-aed7-4ccc-b1fb-f61df7f7f840",
   "metadata": {},
   "source": [
    "### 💾 Gerando os arquivos finais (.csv)\r\n",
    "\r\n",
    "**Objetivo:**  \r\n",
    "Exportar os resultados processados para arquivos `.csv`, organizando-os na estrutura de diretórios desejada para entrega.\r\n",
    "\r\n",
    "- Os arquivos serão salvos na pasta `/home/jovyan/work/dados/Output/`.\r\n",
    "- O nome dos arquivos reflete o desafio resolvido:\r\n",
    "  - `solucao1.1.csv` → Resultado do desafio 1.1: vendas mensais e acumuladas por tipo de serviço.\r\n",
    "  - `solucao1.2.csv` → Resultado do desafio 1.2: top 5 maiores crescimentos mensais percentuais por filial.\r\n",
    "\r\n",
    "**Comando utilizado:**  \r\n",
    "Utiliza o método `.toPandas().to_csv(path, index=False)` para salvar em formato CSV.\r\n"
   ]
  },
  {
   "cell_type": "code",
   "execution_count": 25,
   "id": "b0e79dd4-232f-40f0-af83-b7b4aa4538c4",
   "metadata": {},
   "outputs": [],
   "source": [
    "#salvando em spark desafio 1.1\n",
    "(df_formatado\n",
    "    .write\n",
    "    .mode(\"overwrite\")\n",
    "    .option(\"header\", True)\n",
    "    .option(\"delimiter\", \";\")\n",
    "    .csv(\"/home/jovyan/work/dados/Output/solucao1.1.csv\"))"
   ]
  },
  {
   "cell_type": "code",
   "execution_count": null,
   "id": "741729bb-4c27-4ff2-8829-77b4d87c6ccb",
   "metadata": {},
   "outputs": [],
   "source": [
    "#desafio 1.1 salvando com pandas\n",
    "# Converte para pandas e salva como CSV em um único arquivo\n",
    "df_formatado.toPandas().to_csv(\n",
    "    \"/home/jovyan/work/dados/Output/solucao1.1.csv\",\n",
    "    index=False,\n",
    "    sep=\",\"\n",
    ")\n",
    "\n",
    "print(\"✅ Arquivo salvo com sucesso em /home/jovyan/work/dados/Output/solucao1.1.csv\")\n",
    "\n"
   ]
  },
  {
   "cell_type": "code",
   "execution_count": 26,
   "id": "5d1f4d1f-98ac-43ef-a480-21359377b871",
   "metadata": {},
   "outputs": [],
   "source": [
    "#salvando em spark desafio 1.2\n",
    "(df_top5\n",
    "    .write\n",
    "    .mode(\"overwrite\")\n",
    "    .option(\"header\", True)\n",
    "    .option(\"delimiter\", \";\")\n",
    "    .csv(\"/home/jovyan/work/dados/Output/solucao1.2.csv\"))"
   ]
  },
  {
   "cell_type": "code",
   "execution_count": null,
   "id": "40832ed8-981a-41e3-9a7a-3edafbeb49e8",
   "metadata": {},
   "outputs": [],
   "source": [
    "#desafio 1.2\n",
    "# Converte para pandas e salva como CSV em um único arquivo\n",
    "df_top5.toPandas().to_csv(\n",
    "    \"/home/jovyan/work/dados/Output/solucao1.2.csv\",\n",
    "    index=False,\n",
    "    sep=\";\"\n",
    ")\n",
    "\n",
    "print(\"✅ Arquivo salvo com sucesso como solucao1.2.csv\")\n"
   ]
  },
  {
   "cell_type": "code",
   "execution_count": null,
   "id": "df8002ce-55ff-4fd7-8970-4b271f6b1ee6",
   "metadata": {},
   "outputs": [],
   "source": []
  }
 ],
 "metadata": {
  "kernelspec": {
   "display_name": "Python 3 (ipykernel)",
   "language": "python",
   "name": "python3"
  },
  "language_info": {
   "codemirror_mode": {
    "name": "ipython",
    "version": 3
   },
   "file_extension": ".py",
   "mimetype": "text/x-python",
   "name": "python",
   "nbconvert_exporter": "python",
   "pygments_lexer": "ipython3",
   "version": "3.11.6"
  }
 },
 "nbformat": 4,
 "nbformat_minor": 5
}
